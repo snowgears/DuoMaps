{
 "cells": [
  {
   "cell_type": "code",
   "execution_count": 1,
   "id": "greenhouse-union",
   "metadata": {},
   "outputs": [],
   "source": [
    "import pandas as pd\n",
    "FILE_NAME_IN = '../raw/DA09CJX4KW6RZ376NFHJ_2020-12-15_2021-01-01_no_quote.csv'\n",
    "FILE_NAME_OUT = '../processed/DA09CJX4KW6RZ376NFHJ_2020-12-15_2021-01-01_count_by_city.json'"
   ]
  },
  {
   "cell_type": "code",
   "execution_count": 2,
   "id": "integrated-dover",
   "metadata": {},
   "outputs": [
    {
     "data": {
      "text/html": [
       "<div>\n",
       "<style scoped>\n",
       "    .dataframe tbody tr th:only-of-type {\n",
       "        vertical-align: middle;\n",
       "    }\n",
       "\n",
       "    .dataframe tbody tr th {\n",
       "        vertical-align: top;\n",
       "    }\n",
       "\n",
       "    .dataframe thead th {\n",
       "        text-align: right;\n",
       "    }\n",
       "</style>\n",
       "<table border=\"1\" class=\"dataframe\">\n",
       "  <thead>\n",
       "    <tr style=\"text-align: right;\">\n",
       "      <th></th>\n",
       "      <th>CITY</th>\n",
       "      <th>STATE</th>\n",
       "      <th>COUNTRY</th>\n",
       "      <th>LATITUDE</th>\n",
       "      <th>LONGITUDE</th>\n",
       "      <th>TS</th>\n",
       "      <th>UKEY</th>\n",
       "      <th>RESULT</th>\n",
       "    </tr>\n",
       "  </thead>\n",
       "  <tbody>\n",
       "    <tr>\n",
       "      <th>0</th>\n",
       "      <td>Sydney</td>\n",
       "      <td>NSW</td>\n",
       "      <td>AU</td>\n",
       "      <td>-33.8591</td>\n",
       "      <td>151.2002</td>\n",
       "      <td>2020-12-15 18:45:14.476</td>\n",
       "      <td>DUT61FR4A88WXQSQ1951</td>\n",
       "      <td>FAILURE</td>\n",
       "    </tr>\n",
       "    <tr>\n",
       "      <th>1</th>\n",
       "      <td>Big Rapids</td>\n",
       "      <td>MI</td>\n",
       "      <td>US</td>\n",
       "      <td>43.6927</td>\n",
       "      <td>-85.4781</td>\n",
       "      <td>2020-12-15 13:27:27.593</td>\n",
       "      <td>DUR4GHIDREBD4YVWMQMZ</td>\n",
       "      <td>SUCCESS</td>\n",
       "    </tr>\n",
       "    <tr>\n",
       "      <th>2</th>\n",
       "      <td>Santa Clara</td>\n",
       "      <td>CA</td>\n",
       "      <td>US</td>\n",
       "      <td>37.3417</td>\n",
       "      <td>-121.9753</td>\n",
       "      <td>2020-12-15 16:30:30.981</td>\n",
       "      <td>DUM0OKU5CDB6ZUMMAIGX</td>\n",
       "      <td>SUCCESS</td>\n",
       "    </tr>\n",
       "    <tr>\n",
       "      <th>3</th>\n",
       "      <td>Petaluma</td>\n",
       "      <td>CA</td>\n",
       "      <td>US</td>\n",
       "      <td>38.2403</td>\n",
       "      <td>-122.6777</td>\n",
       "      <td>2020-12-15 23:51:16.872</td>\n",
       "      <td>DU6S8GIIKDFNK5EG3RNV</td>\n",
       "      <td>SUCCESS</td>\n",
       "    </tr>\n",
       "    <tr>\n",
       "      <th>4</th>\n",
       "      <td>Toronto</td>\n",
       "      <td>ON</td>\n",
       "      <td>CA</td>\n",
       "      <td>43.6644</td>\n",
       "      <td>-79.4195</td>\n",
       "      <td>2020-12-15 13:41:12.088</td>\n",
       "      <td>DU3C92NOTCFZZ08N838O</td>\n",
       "      <td>SUCCESS</td>\n",
       "    </tr>\n",
       "  </tbody>\n",
       "</table>\n",
       "</div>"
      ],
      "text/plain": [
       "          CITY STATE COUNTRY  LATITUDE  LONGITUDE                       TS  \\\n",
       "0       Sydney   NSW      AU  -33.8591   151.2002  2020-12-15 18:45:14.476   \n",
       "1   Big Rapids    MI      US   43.6927   -85.4781  2020-12-15 13:27:27.593   \n",
       "2  Santa Clara    CA      US   37.3417  -121.9753  2020-12-15 16:30:30.981   \n",
       "3     Petaluma    CA      US   38.2403  -122.6777  2020-12-15 23:51:16.872   \n",
       "4      Toronto    ON      CA   43.6644   -79.4195  2020-12-15 13:41:12.088   \n",
       "\n",
       "                   UKEY   RESULT  \n",
       "0  DUT61FR4A88WXQSQ1951  FAILURE  \n",
       "1  DUR4GHIDREBD4YVWMQMZ  SUCCESS  \n",
       "2  DUM0OKU5CDB6ZUMMAIGX  SUCCESS  \n",
       "3  DU6S8GIIKDFNK5EG3RNV  SUCCESS  \n",
       "4  DU3C92NOTCFZZ08N838O  SUCCESS  "
      ]
     },
     "execution_count": 2,
     "metadata": {},
     "output_type": "execute_result"
    }
   ],
   "source": [
    "df = pd.read_csv(FILE_NAME_IN)\n",
    "df.head()"
   ]
  },
  {
   "cell_type": "code",
   "execution_count": 3,
   "id": "lightweight-offense",
   "metadata": {},
   "outputs": [],
   "source": [
    "by_city = df.groupby(['CITY', 'STATE', 'COUNTRY'])"
   ]
  },
  {
   "cell_type": "code",
   "execution_count": 4,
   "id": "diagnostic-speech",
   "metadata": {},
   "outputs": [
    {
     "data": {
      "text/html": [
       "<div>\n",
       "<style scoped>\n",
       "    .dataframe tbody tr th:only-of-type {\n",
       "        vertical-align: middle;\n",
       "    }\n",
       "\n",
       "    .dataframe tbody tr th {\n",
       "        vertical-align: top;\n",
       "    }\n",
       "\n",
       "    .dataframe thead th {\n",
       "        text-align: right;\n",
       "    }\n",
       "</style>\n",
       "<table border=\"1\" class=\"dataframe\">\n",
       "  <thead>\n",
       "    <tr style=\"text-align: right;\">\n",
       "      <th></th>\n",
       "      <th></th>\n",
       "      <th></th>\n",
       "      <th>avg_latitude</th>\n",
       "      <th>avg_longitude</th>\n",
       "      <th>auths</th>\n",
       "    </tr>\n",
       "    <tr>\n",
       "      <th>CITY</th>\n",
       "      <th>STATE</th>\n",
       "      <th>COUNTRY</th>\n",
       "      <th></th>\n",
       "      <th></th>\n",
       "      <th></th>\n",
       "    </tr>\n",
       "  </thead>\n",
       "  <tbody>\n",
       "    <tr>\n",
       "      <th>Aberdeen</th>\n",
       "      <th>MD</th>\n",
       "      <th>US</th>\n",
       "      <td>39.5125</td>\n",
       "      <td>-76.1806</td>\n",
       "      <td>42</td>\n",
       "    </tr>\n",
       "    <tr>\n",
       "      <th>Abingdon</th>\n",
       "      <th>MD</th>\n",
       "      <th>US</th>\n",
       "      <td>39.4799</td>\n",
       "      <td>-76.2955</td>\n",
       "      <td>36</td>\n",
       "    </tr>\n",
       "    <tr>\n",
       "      <th>Addison</th>\n",
       "      <th>TX</th>\n",
       "      <th>US</th>\n",
       "      <td>32.9569</td>\n",
       "      <td>-96.8317</td>\n",
       "      <td>35</td>\n",
       "    </tr>\n",
       "    <tr>\n",
       "      <th>Akron</th>\n",
       "      <th>OH</th>\n",
       "      <th>US</th>\n",
       "      <td>41.0793</td>\n",
       "      <td>-81.5229</td>\n",
       "      <td>48</td>\n",
       "    </tr>\n",
       "    <tr>\n",
       "      <th>Alameda</th>\n",
       "      <th>CA</th>\n",
       "      <th>US</th>\n",
       "      <td>37.7688</td>\n",
       "      <td>-122.2620</td>\n",
       "      <td>31</td>\n",
       "    </tr>\n",
       "  </tbody>\n",
       "</table>\n",
       "</div>"
      ],
      "text/plain": [
       "                        avg_latitude  avg_longitude  auths\n",
       "CITY     STATE COUNTRY                                    \n",
       "Aberdeen MD    US            39.5125       -76.1806     42\n",
       "Abingdon MD    US            39.4799       -76.2955     36\n",
       "Addison  TX    US            32.9569       -96.8317     35\n",
       "Akron    OH    US            41.0793       -81.5229     48\n",
       "Alameda  CA    US            37.7688      -122.2620     31"
      ]
     },
     "execution_count": 4,
     "metadata": {},
     "output_type": "execute_result"
    }
   ],
   "source": [
    "out_df = by_city.agg(\n",
    "    avg_latitude=pd.NamedAgg(column='LATITUDE', aggfunc=\"mean\"),\n",
    "    avg_longitude=pd.NamedAgg(column='LONGITUDE', aggfunc=\"mean\"),\n",
    "    auths=pd.NamedAgg(column='TS', aggfunc='count')\n",
    ")\n",
    "out_df.head()"
   ]
  },
  {
   "cell_type": "code",
   "execution_count": 5,
   "id": "similar-token",
   "metadata": {},
   "outputs": [],
   "source": [
    "records = []\n",
    "for index, row in out_df.iterrows():\n",
    "    records.append(\n",
    "        dict(\n",
    "            city=index[0],\n",
    "            state=index[1],\n",
    "            country=index[2],\n",
    "            coordinates=(row.avg_latitude, row.avg_longitude),\n",
    "            auths=int(row.auths)\n",
    "        )\n",
    "    )"
   ]
  },
  {
   "cell_type": "code",
   "execution_count": 6,
   "id": "occupied-infection",
   "metadata": {},
   "outputs": [
    {
     "data": {
      "text/plain": [
       "{'city': 'Aberdeen',\n",
       " 'state': 'MD',\n",
       " 'country': 'US',\n",
       " 'coordinates': (39.51250000000003, -76.18060000000003),\n",
       " 'auths': 42}"
      ]
     },
     "execution_count": 6,
     "metadata": {},
     "output_type": "execute_result"
    }
   ],
   "source": [
    "records[0]"
   ]
  },
  {
   "cell_type": "code",
   "execution_count": 7,
   "id": "stainless-edwards",
   "metadata": {},
   "outputs": [],
   "source": [
    "import json\n",
    "with open(FILE_NAME_OUT, 'w') as fout:\n",
    "    json.dump(records, fout)"
   ]
  }
 ],
 "metadata": {
  "kernelspec": {
   "display_name": "Python 3",
   "language": "python",
   "name": "python3"
  },
  "language_info": {
   "codemirror_mode": {
    "name": "ipython",
    "version": 3
   },
   "file_extension": ".py",
   "mimetype": "text/x-python",
   "name": "python",
   "nbconvert_exporter": "python",
   "pygments_lexer": "ipython3",
   "version": "3.8.2"
  }
 },
 "nbformat": 4,
 "nbformat_minor": 5
}
